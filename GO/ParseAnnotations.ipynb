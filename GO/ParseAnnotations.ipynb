{
 "cells": [
  {
   "cell_type": "code",
   "execution_count": null,
   "metadata": {
    "collapsed": false
   },
   "outputs": [],
   "source": [
    "import re\n",
    "from collections import defaultdict\n",
    "d = defaultdict(list)\n",
    "\n",
    "with open(\"/Volumes/maggiec/GO/Annotations/pfam2go\" , 'r') as f:\n",
    "    for line in f.readlines()[6:]:\n",
    "        print(line)\n",
    "        k=re.split('> |; |:|\\n', line)\n",
    "        x=re.split('\\s+', k[1])\n",
    "        if k[3] in d:\n",
    "            d[k[3]].append(x[1])\n",
    "        else:\n",
    "            d.setdefault(k[3], []).append(x[1])\n",
    "\n",
    "#Pfam:PF00001 7tm_1 > GO:G-protein coupled receptor activity ; GO:0004930#"
   ]
  },
  {
   "cell_type": "code",
   "execution_count": 102,
   "metadata": {
    "collapsed": false
   },
   "outputs": [],
   "source": [
    "f = open('/Volumes/maggiec/GO/Annotations/pfam2go.out', 'w')\n",
    "for c in d:\n",
    "    b=','.join(d[c])\n",
    "    f.write(c+'\\t'+b+'\\n')\n",
    "f.close()    "
   ]
  }
 ],
 "metadata": {
  "anaconda-cloud": {
   "attach-environment": true,
   "summary": "Gene Ontology annotations for pfam",
   "url": "https://anaconda.org/maggiec/parseannotations"
  },
  "kernelspec": {
   "display_name": "Python 3",
   "language": "python",
   "name": "python3"
  },
  "language_info": {
   "codemirror_mode": {
    "name": "ipython",
    "version": 3
   },
   "file_extension": ".py",
   "mimetype": "text/x-python",
   "name": "python",
   "nbconvert_exporter": "python",
   "pygments_lexer": "ipython3",
   "version": "3.5.2"
  }
 },
 "nbformat": 4,
 "nbformat_minor": 1
}
